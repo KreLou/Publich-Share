{
 "cells": [
  {
   "cell_type": "markdown",
   "metadata": {
    "collapsed": true,
    "pycharm": {
     "name": "#%% md\n"
    }
   },
   "source": [
    "# Import required packges"
   ]
  },
  {
   "cell_type": "code",
   "execution_count": 434,
   "outputs": [],
   "source": [
    "import pandas as pd\n",
    "\n",
    "\n"
   ],
   "metadata": {
    "collapsed": false,
    "pycharm": {
     "name": "#%%\n"
    }
   }
  },
  {
   "cell_type": "markdown",
   "source": [
    "# Import the orders\n",
    "## and Calculate the revenue"
   ],
   "metadata": {
    "collapsed": false,
    "pycharm": {
     "name": "#%% md\n"
    }
   }
  },
  {
   "cell_type": "code",
   "execution_count": 435,
   "outputs": [
    {
     "data": {
      "text/plain": "       orderID   orderDate  customerID   articleName  articlePrice  \\\n0            1  2020-01-01         912  Product #019          8.39   \n1            1  2020-01-01         912  Product #078         22.68   \n2            2  2020-01-01          46  Product #010          2.06   \n3            2  2020-01-01          46  Product #022         41.92   \n4            2  2020-01-01          46  Product #097         62.93   \n...        ...         ...         ...           ...           ...   \n48807     9997  2020-06-30         175  Product #057         37.85   \n48808     9997  2020-06-30         175  Product #064         63.81   \n48809     9998  2020-06-30          56  Product #011         32.90   \n48810     9999  2020-06-30         178  Product #043         68.13   \n48811     9999  2020-06-30         178  Product #076         41.57   \n\n       orderAmount  revenue  \n0                5    41.95  \n1                4    90.72  \n2                7    14.42  \n3                6   251.52  \n4                6   377.58  \n...            ...      ...  \n48807            5   189.25  \n48808            1    63.81  \n48809           11   361.90  \n48810            8   545.04  \n48811            9   374.13  \n\n[48812 rows x 7 columns]",
      "text/html": "<div>\n<style scoped>\n    .dataframe tbody tr th:only-of-type {\n        vertical-align: middle;\n    }\n\n    .dataframe tbody tr th {\n        vertical-align: top;\n    }\n\n    .dataframe thead th {\n        text-align: right;\n    }\n</style>\n<table border=\"1\" class=\"dataframe\">\n  <thead>\n    <tr style=\"text-align: right;\">\n      <th></th>\n      <th>orderID</th>\n      <th>orderDate</th>\n      <th>customerID</th>\n      <th>articleName</th>\n      <th>articlePrice</th>\n      <th>orderAmount</th>\n      <th>revenue</th>\n    </tr>\n  </thead>\n  <tbody>\n    <tr>\n      <th>0</th>\n      <td>1</td>\n      <td>2020-01-01</td>\n      <td>912</td>\n      <td>Product #019</td>\n      <td>8.39</td>\n      <td>5</td>\n      <td>41.95</td>\n    </tr>\n    <tr>\n      <th>1</th>\n      <td>1</td>\n      <td>2020-01-01</td>\n      <td>912</td>\n      <td>Product #078</td>\n      <td>22.68</td>\n      <td>4</td>\n      <td>90.72</td>\n    </tr>\n    <tr>\n      <th>2</th>\n      <td>2</td>\n      <td>2020-01-01</td>\n      <td>46</td>\n      <td>Product #010</td>\n      <td>2.06</td>\n      <td>7</td>\n      <td>14.42</td>\n    </tr>\n    <tr>\n      <th>3</th>\n      <td>2</td>\n      <td>2020-01-01</td>\n      <td>46</td>\n      <td>Product #022</td>\n      <td>41.92</td>\n      <td>6</td>\n      <td>251.52</td>\n    </tr>\n    <tr>\n      <th>4</th>\n      <td>2</td>\n      <td>2020-01-01</td>\n      <td>46</td>\n      <td>Product #097</td>\n      <td>62.93</td>\n      <td>6</td>\n      <td>377.58</td>\n    </tr>\n    <tr>\n      <th>...</th>\n      <td>...</td>\n      <td>...</td>\n      <td>...</td>\n      <td>...</td>\n      <td>...</td>\n      <td>...</td>\n      <td>...</td>\n    </tr>\n    <tr>\n      <th>48807</th>\n      <td>9997</td>\n      <td>2020-06-30</td>\n      <td>175</td>\n      <td>Product #057</td>\n      <td>37.85</td>\n      <td>5</td>\n      <td>189.25</td>\n    </tr>\n    <tr>\n      <th>48808</th>\n      <td>9997</td>\n      <td>2020-06-30</td>\n      <td>175</td>\n      <td>Product #064</td>\n      <td>63.81</td>\n      <td>1</td>\n      <td>63.81</td>\n    </tr>\n    <tr>\n      <th>48809</th>\n      <td>9998</td>\n      <td>2020-06-30</td>\n      <td>56</td>\n      <td>Product #011</td>\n      <td>32.90</td>\n      <td>11</td>\n      <td>361.90</td>\n    </tr>\n    <tr>\n      <th>48810</th>\n      <td>9999</td>\n      <td>2020-06-30</td>\n      <td>178</td>\n      <td>Product #043</td>\n      <td>68.13</td>\n      <td>8</td>\n      <td>545.04</td>\n    </tr>\n    <tr>\n      <th>48811</th>\n      <td>9999</td>\n      <td>2020-06-30</td>\n      <td>178</td>\n      <td>Product #076</td>\n      <td>41.57</td>\n      <td>9</td>\n      <td>374.13</td>\n    </tr>\n  </tbody>\n</table>\n<p>48812 rows × 7 columns</p>\n</div>"
     },
     "execution_count": 435,
     "metadata": {},
     "output_type": "execute_result"
    }
   ],
   "source": [
    "orders = pd.read_csv('orders.csv')\n",
    "orders['revenue'] = orders['orderAmount'] * orders['articlePrice']\n",
    "orders"
   ],
   "metadata": {
    "collapsed": false,
    "pycharm": {
     "name": "#%%\n"
    }
   }
  },
  {
   "cell_type": "markdown",
   "source": [
    "# Group the revenue per customer"
   ],
   "metadata": {
    "collapsed": false,
    "pycharm": {
     "name": "#%% md\n"
    }
   }
  },
  {
   "cell_type": "code",
   "execution_count": 436,
   "outputs": [
    {
     "data": {
      "text/plain": "     customerID    revenue\n0             1  113005.19\n1             2   92927.35\n2             3  116185.57\n3             4  209188.97\n4             5  161098.03\n..          ...        ...\n990         996   15927.83\n991         997    8411.16\n992         998    5917.52\n993         999   14076.64\n994        1000    9874.67\n\n[995 rows x 2 columns]",
      "text/html": "<div>\n<style scoped>\n    .dataframe tbody tr th:only-of-type {\n        vertical-align: middle;\n    }\n\n    .dataframe tbody tr th {\n        vertical-align: top;\n    }\n\n    .dataframe thead th {\n        text-align: right;\n    }\n</style>\n<table border=\"1\" class=\"dataframe\">\n  <thead>\n    <tr style=\"text-align: right;\">\n      <th></th>\n      <th>customerID</th>\n      <th>revenue</th>\n    </tr>\n  </thead>\n  <tbody>\n    <tr>\n      <th>0</th>\n      <td>1</td>\n      <td>113005.19</td>\n    </tr>\n    <tr>\n      <th>1</th>\n      <td>2</td>\n      <td>92927.35</td>\n    </tr>\n    <tr>\n      <th>2</th>\n      <td>3</td>\n      <td>116185.57</td>\n    </tr>\n    <tr>\n      <th>3</th>\n      <td>4</td>\n      <td>209188.97</td>\n    </tr>\n    <tr>\n      <th>4</th>\n      <td>5</td>\n      <td>161098.03</td>\n    </tr>\n    <tr>\n      <th>...</th>\n      <td>...</td>\n      <td>...</td>\n    </tr>\n    <tr>\n      <th>990</th>\n      <td>996</td>\n      <td>15927.83</td>\n    </tr>\n    <tr>\n      <th>991</th>\n      <td>997</td>\n      <td>8411.16</td>\n    </tr>\n    <tr>\n      <th>992</th>\n      <td>998</td>\n      <td>5917.52</td>\n    </tr>\n    <tr>\n      <th>993</th>\n      <td>999</td>\n      <td>14076.64</td>\n    </tr>\n    <tr>\n      <th>994</th>\n      <td>1000</td>\n      <td>9874.67</td>\n    </tr>\n  </tbody>\n</table>\n<p>995 rows × 2 columns</p>\n</div>"
     },
     "execution_count": 436,
     "metadata": {},
     "output_type": "execute_result"
    }
   ],
   "source": [
    "customers = orders.groupby(['customerID'])['revenue'].sum().reset_index()\n",
    "customers"
   ],
   "metadata": {
    "collapsed": false,
    "pycharm": {
     "name": "#%%\n"
    }
   }
  },
  {
   "cell_type": "markdown",
   "source": [
    "# Caluclate the percentage of the revenue per customer"
   ],
   "metadata": {
    "collapsed": false,
    "pycharm": {
     "name": "#%% md\n"
    }
   }
  },
  {
   "cell_type": "code",
   "execution_count": 437,
   "outputs": [
    {
     "data": {
      "text/plain": "     customerID    revenue  percentage\n0             1  113005.19    0.002322\n1             2   92927.35    0.001909\n2             3  116185.57    0.002387\n3             4  209188.97    0.004298\n4             5  161098.03    0.003310\n..          ...        ...         ...\n990         996   15927.83    0.000327\n991         997    8411.16    0.000173\n992         998    5917.52    0.000122\n993         999   14076.64    0.000289\n994        1000    9874.67    0.000203\n\n[995 rows x 3 columns]",
      "text/html": "<div>\n<style scoped>\n    .dataframe tbody tr th:only-of-type {\n        vertical-align: middle;\n    }\n\n    .dataframe tbody tr th {\n        vertical-align: top;\n    }\n\n    .dataframe thead th {\n        text-align: right;\n    }\n</style>\n<table border=\"1\" class=\"dataframe\">\n  <thead>\n    <tr style=\"text-align: right;\">\n      <th></th>\n      <th>customerID</th>\n      <th>revenue</th>\n      <th>percentage</th>\n    </tr>\n  </thead>\n  <tbody>\n    <tr>\n      <th>0</th>\n      <td>1</td>\n      <td>113005.19</td>\n      <td>0.002322</td>\n    </tr>\n    <tr>\n      <th>1</th>\n      <td>2</td>\n      <td>92927.35</td>\n      <td>0.001909</td>\n    </tr>\n    <tr>\n      <th>2</th>\n      <td>3</td>\n      <td>116185.57</td>\n      <td>0.002387</td>\n    </tr>\n    <tr>\n      <th>3</th>\n      <td>4</td>\n      <td>209188.97</td>\n      <td>0.004298</td>\n    </tr>\n    <tr>\n      <th>4</th>\n      <td>5</td>\n      <td>161098.03</td>\n      <td>0.003310</td>\n    </tr>\n    <tr>\n      <th>...</th>\n      <td>...</td>\n      <td>...</td>\n      <td>...</td>\n    </tr>\n    <tr>\n      <th>990</th>\n      <td>996</td>\n      <td>15927.83</td>\n      <td>0.000327</td>\n    </tr>\n    <tr>\n      <th>991</th>\n      <td>997</td>\n      <td>8411.16</td>\n      <td>0.000173</td>\n    </tr>\n    <tr>\n      <th>992</th>\n      <td>998</td>\n      <td>5917.52</td>\n      <td>0.000122</td>\n    </tr>\n    <tr>\n      <th>993</th>\n      <td>999</td>\n      <td>14076.64</td>\n      <td>0.000289</td>\n    </tr>\n    <tr>\n      <th>994</th>\n      <td>1000</td>\n      <td>9874.67</td>\n      <td>0.000203</td>\n    </tr>\n  </tbody>\n</table>\n<p>995 rows × 3 columns</p>\n</div>"
     },
     "execution_count": 437,
     "metadata": {},
     "output_type": "execute_result"
    }
   ],
   "source": [
    "total_revenue = sum(customers['revenue'])\n",
    "customers['percentage'] = customers['revenue'] / total_revenue\n",
    "customers"
   ],
   "metadata": {
    "collapsed": false,
    "pycharm": {
     "name": "#%%\n"
    }
   }
  },
  {
   "cell_type": "markdown",
   "source": [
    "# Sort the Customers by percentage desc"
   ],
   "metadata": {
    "collapsed": false,
    "pycharm": {
     "name": "#%% md\n"
    }
   }
  },
  {
   "cell_type": "code",
   "execution_count": 438,
   "outputs": [
    {
     "data": {
      "text/plain": "     customerID    revenue  percentage\n42           43  742299.47    0.015253\n29           30  605485.25    0.012441\n25           26  499334.02    0.010260\n27           28  487596.41    0.010019\n52           53  437209.49    0.008984\n..          ...        ...         ...\n980         986     941.18    0.000019\n740         741     884.98    0.000018\n525         526     694.88    0.000014\n882         885     578.92    0.000012\n558         559     501.98    0.000010\n\n[995 rows x 3 columns]",
      "text/html": "<div>\n<style scoped>\n    .dataframe tbody tr th:only-of-type {\n        vertical-align: middle;\n    }\n\n    .dataframe tbody tr th {\n        vertical-align: top;\n    }\n\n    .dataframe thead th {\n        text-align: right;\n    }\n</style>\n<table border=\"1\" class=\"dataframe\">\n  <thead>\n    <tr style=\"text-align: right;\">\n      <th></th>\n      <th>customerID</th>\n      <th>revenue</th>\n      <th>percentage</th>\n    </tr>\n  </thead>\n  <tbody>\n    <tr>\n      <th>42</th>\n      <td>43</td>\n      <td>742299.47</td>\n      <td>0.015253</td>\n    </tr>\n    <tr>\n      <th>29</th>\n      <td>30</td>\n      <td>605485.25</td>\n      <td>0.012441</td>\n    </tr>\n    <tr>\n      <th>25</th>\n      <td>26</td>\n      <td>499334.02</td>\n      <td>0.010260</td>\n    </tr>\n    <tr>\n      <th>27</th>\n      <td>28</td>\n      <td>487596.41</td>\n      <td>0.010019</td>\n    </tr>\n    <tr>\n      <th>52</th>\n      <td>53</td>\n      <td>437209.49</td>\n      <td>0.008984</td>\n    </tr>\n    <tr>\n      <th>...</th>\n      <td>...</td>\n      <td>...</td>\n      <td>...</td>\n    </tr>\n    <tr>\n      <th>980</th>\n      <td>986</td>\n      <td>941.18</td>\n      <td>0.000019</td>\n    </tr>\n    <tr>\n      <th>740</th>\n      <td>741</td>\n      <td>884.98</td>\n      <td>0.000018</td>\n    </tr>\n    <tr>\n      <th>525</th>\n      <td>526</td>\n      <td>694.88</td>\n      <td>0.000014</td>\n    </tr>\n    <tr>\n      <th>882</th>\n      <td>885</td>\n      <td>578.92</td>\n      <td>0.000012</td>\n    </tr>\n    <tr>\n      <th>558</th>\n      <td>559</td>\n      <td>501.98</td>\n      <td>0.000010</td>\n    </tr>\n  </tbody>\n</table>\n<p>995 rows × 3 columns</p>\n</div>"
     },
     "execution_count": 438,
     "metadata": {},
     "output_type": "execute_result"
    }
   ],
   "source": [
    "customers = customers.sort_values(['revenue'], ascending=False)\n",
    "customers"
   ],
   "metadata": {
    "collapsed": false,
    "pycharm": {
     "name": "#%%\n"
    }
   }
  },
  {
   "cell_type": "markdown",
   "source": [
    "# Cum-sum the percentage"
   ],
   "metadata": {
    "collapsed": false,
    "pycharm": {
     "name": "#%% md\n"
    }
   }
  },
  {
   "cell_type": "code",
   "execution_count": 439,
   "outputs": [
    {
     "data": {
      "text/plain": "     customerID    revenue  percentage   cum_sum\n42           43  742299.47    0.015253  0.015253\n29           30  605485.25    0.012441  0.027694\n25           26  499334.02    0.010260  0.037955\n27           28  487596.41    0.010019  0.047974\n52           53  437209.49    0.008984  0.056957\n..          ...        ...         ...       ...\n980         986     941.18    0.000019  0.999945\n740         741     884.98    0.000018  0.999964\n525         526     694.88    0.000014  0.999978\n882         885     578.92    0.000012  0.999990\n558         559     501.98    0.000010  1.000000\n\n[995 rows x 4 columns]",
      "text/html": "<div>\n<style scoped>\n    .dataframe tbody tr th:only-of-type {\n        vertical-align: middle;\n    }\n\n    .dataframe tbody tr th {\n        vertical-align: top;\n    }\n\n    .dataframe thead th {\n        text-align: right;\n    }\n</style>\n<table border=\"1\" class=\"dataframe\">\n  <thead>\n    <tr style=\"text-align: right;\">\n      <th></th>\n      <th>customerID</th>\n      <th>revenue</th>\n      <th>percentage</th>\n      <th>cum_sum</th>\n    </tr>\n  </thead>\n  <tbody>\n    <tr>\n      <th>42</th>\n      <td>43</td>\n      <td>742299.47</td>\n      <td>0.015253</td>\n      <td>0.015253</td>\n    </tr>\n    <tr>\n      <th>29</th>\n      <td>30</td>\n      <td>605485.25</td>\n      <td>0.012441</td>\n      <td>0.027694</td>\n    </tr>\n    <tr>\n      <th>25</th>\n      <td>26</td>\n      <td>499334.02</td>\n      <td>0.010260</td>\n      <td>0.037955</td>\n    </tr>\n    <tr>\n      <th>27</th>\n      <td>28</td>\n      <td>487596.41</td>\n      <td>0.010019</td>\n      <td>0.047974</td>\n    </tr>\n    <tr>\n      <th>52</th>\n      <td>53</td>\n      <td>437209.49</td>\n      <td>0.008984</td>\n      <td>0.056957</td>\n    </tr>\n    <tr>\n      <th>...</th>\n      <td>...</td>\n      <td>...</td>\n      <td>...</td>\n      <td>...</td>\n    </tr>\n    <tr>\n      <th>980</th>\n      <td>986</td>\n      <td>941.18</td>\n      <td>0.000019</td>\n      <td>0.999945</td>\n    </tr>\n    <tr>\n      <th>740</th>\n      <td>741</td>\n      <td>884.98</td>\n      <td>0.000018</td>\n      <td>0.999964</td>\n    </tr>\n    <tr>\n      <th>525</th>\n      <td>526</td>\n      <td>694.88</td>\n      <td>0.000014</td>\n      <td>0.999978</td>\n    </tr>\n    <tr>\n      <th>882</th>\n      <td>885</td>\n      <td>578.92</td>\n      <td>0.000012</td>\n      <td>0.999990</td>\n    </tr>\n    <tr>\n      <th>558</th>\n      <td>559</td>\n      <td>501.98</td>\n      <td>0.000010</td>\n      <td>1.000000</td>\n    </tr>\n  </tbody>\n</table>\n<p>995 rows × 4 columns</p>\n</div>"
     },
     "execution_count": 439,
     "metadata": {},
     "output_type": "execute_result"
    }
   ],
   "source": [
    "customers['cum_sum'] = customers['percentage'].cumsum()\n",
    "customers"
   ],
   "metadata": {
    "collapsed": false,
    "pycharm": {
     "name": "#%%\n"
    }
   }
  },
  {
   "cell_type": "markdown",
   "source": [
    "# Labeling the customers"
   ],
   "metadata": {
    "collapsed": false,
    "pycharm": {
     "name": "#%% md\n"
    }
   }
  },
  {
   "cell_type": "code",
   "execution_count": 440,
   "outputs": [
    {
     "data": {
      "text/plain": "     customerID    revenue  percentage   cum_sum abc\n42           43  742299.47    0.015253  0.015253   A\n29           30  605485.25    0.012441  0.027694   A\n25           26  499334.02    0.010260  0.037955   A\n27           28  487596.41    0.010019  0.047974   A\n52           53  437209.49    0.008984  0.056957   A\n..          ...        ...         ...       ...  ..\n980         986     941.18    0.000019  0.999945   C\n740         741     884.98    0.000018  0.999964   C\n525         526     694.88    0.000014  0.999978   C\n882         885     578.92    0.000012  0.999990   C\n558         559     501.98    0.000010  1.000000   C\n\n[995 rows x 5 columns]",
      "text/html": "<div>\n<style scoped>\n    .dataframe tbody tr th:only-of-type {\n        vertical-align: middle;\n    }\n\n    .dataframe tbody tr th {\n        vertical-align: top;\n    }\n\n    .dataframe thead th {\n        text-align: right;\n    }\n</style>\n<table border=\"1\" class=\"dataframe\">\n  <thead>\n    <tr style=\"text-align: right;\">\n      <th></th>\n      <th>customerID</th>\n      <th>revenue</th>\n      <th>percentage</th>\n      <th>cum_sum</th>\n      <th>abc</th>\n    </tr>\n  </thead>\n  <tbody>\n    <tr>\n      <th>42</th>\n      <td>43</td>\n      <td>742299.47</td>\n      <td>0.015253</td>\n      <td>0.015253</td>\n      <td>A</td>\n    </tr>\n    <tr>\n      <th>29</th>\n      <td>30</td>\n      <td>605485.25</td>\n      <td>0.012441</td>\n      <td>0.027694</td>\n      <td>A</td>\n    </tr>\n    <tr>\n      <th>25</th>\n      <td>26</td>\n      <td>499334.02</td>\n      <td>0.010260</td>\n      <td>0.037955</td>\n      <td>A</td>\n    </tr>\n    <tr>\n      <th>27</th>\n      <td>28</td>\n      <td>487596.41</td>\n      <td>0.010019</td>\n      <td>0.047974</td>\n      <td>A</td>\n    </tr>\n    <tr>\n      <th>52</th>\n      <td>53</td>\n      <td>437209.49</td>\n      <td>0.008984</td>\n      <td>0.056957</td>\n      <td>A</td>\n    </tr>\n    <tr>\n      <th>...</th>\n      <td>...</td>\n      <td>...</td>\n      <td>...</td>\n      <td>...</td>\n      <td>...</td>\n    </tr>\n    <tr>\n      <th>980</th>\n      <td>986</td>\n      <td>941.18</td>\n      <td>0.000019</td>\n      <td>0.999945</td>\n      <td>C</td>\n    </tr>\n    <tr>\n      <th>740</th>\n      <td>741</td>\n      <td>884.98</td>\n      <td>0.000018</td>\n      <td>0.999964</td>\n      <td>C</td>\n    </tr>\n    <tr>\n      <th>525</th>\n      <td>526</td>\n      <td>694.88</td>\n      <td>0.000014</td>\n      <td>0.999978</td>\n      <td>C</td>\n    </tr>\n    <tr>\n      <th>882</th>\n      <td>885</td>\n      <td>578.92</td>\n      <td>0.000012</td>\n      <td>0.999990</td>\n      <td>C</td>\n    </tr>\n    <tr>\n      <th>558</th>\n      <td>559</td>\n      <td>501.98</td>\n      <td>0.000010</td>\n      <td>1.000000</td>\n      <td>C</td>\n    </tr>\n  </tbody>\n</table>\n<p>995 rows × 5 columns</p>\n</div>"
     },
     "execution_count": 440,
     "metadata": {},
     "output_type": "execute_result"
    }
   ],
   "source": [
    "customers['abc'] = None\n",
    "for index, row in customers.iterrows():\n",
    "    label = None\n",
    "    if row['cum_sum'] <= 0.20:\n",
    "        label = 'A'\n",
    "    elif row['cum_sum'] <= 0.80:\n",
    "        label = 'B'\n",
    "    else:\n",
    "        label = 'C'\n",
    "    customers.loc[index, 'abc'] = label\n",
    "customers"
   ],
   "metadata": {
    "collapsed": false,
    "pycharm": {
     "name": "#%%\n"
    }
   }
  },
  {
   "cell_type": "markdown",
   "source": [
    "# Check the result in the graph\n",
    "1. Import the packages\n",
    "2. add order for the customers (1-n)\n",
    "3. Add Colors for the abc-groups"
   ],
   "metadata": {
    "collapsed": false,
    "pycharm": {
     "name": "#%% md\n"
    }
   }
  },
  {
   "cell_type": "code",
   "execution_count": 441,
   "outputs": [],
   "source": [
    "import matplotlib.pyplot as plt\n",
    "import seaborn as sns"
   ],
   "metadata": {
    "collapsed": false,
    "pycharm": {
     "name": "#%%\n"
    }
   }
  },
  {
   "cell_type": "code",
   "execution_count": 442,
   "outputs": [],
   "source": [
    "customers['orderNo'] = range(1, customers.shape[0]+1, 1)\n"
   ],
   "metadata": {
    "collapsed": false,
    "pycharm": {
     "name": "#%%\n"
    }
   }
  },
  {
   "cell_type": "code",
   "execution_count": 443,
   "outputs": [
    {
     "data": {
      "text/plain": "<Figure size 1527.84x1080 with 1 Axes>",
      "image/png": "[encoded data removed]"
     },
     "metadata": {},
     "output_type": "display_data"
    }
   ],
   "source": [
    "dims = (21.22, 15)\n",
    "fig, ax = plt.subplots(figsize=dims)\n",
    "\n",
    "sns.barplot(ax=ax, x='orderNo', y='cum_sum', data=customers.iloc[::4, :], hue='abc', linewidth=1)\n",
    "plt.xticks([], '')\n",
    "plt.yticks([0, .1, .2, .3, .4, .5, .6, .7, .8, .9, 1], ' %')\n",
    "plt.show()"
   ],
   "metadata": {
    "collapsed": false,
    "pycharm": {
     "name": "#%%\n"
    }
   }
  },
  {
   "cell_type": "code",
   "execution_count": 444,
   "outputs": [
    {
     "data": {
      "text/plain": "     customerID    revenue  percentage   cum_sum abc  orderNo\n42           43  742299.47    0.015253  0.015253   A        1\n29           30  605485.25    0.012441  0.027694   A        2\n25           26  499334.02    0.010260  0.037955   A        3\n27           28  487596.41    0.010019  0.047974   A        4\n52           53  437209.49    0.008984  0.056957   A        5\n116         117  368432.46    0.007571  0.064528   A        6\n67           68  362136.74    0.007441  0.071969   A        7\n49           50  353988.05    0.007274  0.079243   A        8\n31           32  346642.77    0.007123  0.086366   A        9\n215         216  338330.78    0.006952  0.093318   A       10\n523         524  336152.03    0.006907  0.100225   A       11\n138         139  335890.88    0.006902  0.107127   A       12\n186         187  292982.33    0.006020  0.113147   A       13\n30           31  264076.18    0.005426  0.118573   A       14\n50           51  260976.50    0.005363  0.123936   A       15\n83           84  249688.89    0.005131  0.129066   A       16\n65           66  239568.27    0.004923  0.133989   A       17\n48           49  238484.13    0.004900  0.138889   A       18\n98           99  237096.11    0.004872  0.143761   A       19\n355         356  231215.50    0.004751  0.148512   A       20\n198         199  230932.02    0.004745  0.153257   A       21\n189         190  228918.86    0.004704  0.157961   A       22\n28           29  227891.08    0.004683  0.162644   A       23\n389         390  227756.75    0.004680  0.167324   A       24\n37           38  226627.17    0.004657  0.171981   A       25\n266         267  224994.20    0.004623  0.176604   A       26\n87           88  224652.96    0.004616  0.181220   A       27\n147         148  223957.09    0.004602  0.185822   A       28\n190         191  223130.92    0.004585  0.190407   A       29\n259         260  221091.18    0.004543  0.194950   A       30\n46           47  220694.75    0.004535  0.199485   A       31\n92           93  219147.83    0.004503  0.203988   B       32\n161         162  214734.41    0.004412  0.208400   B       33\n139         140  213998.58    0.004397  0.212797   B       34\n94           95  211649.99    0.004349  0.217146   B       35\n3             4  209188.97    0.004298  0.221445   B       36\n195         196  208918.99    0.004293  0.225737   B       37\n91           92  205782.60    0.004228  0.229966   B       38\n124         125  204913.26    0.004211  0.234176   B       39\n193         194  204179.31    0.004195  0.238372   B       40\n167         168  203436.21    0.004180  0.242552   B       41\n153         154  197907.05    0.004067  0.246619   B       42\n234         235  197149.73    0.004051  0.250670   B       43\n134         135  195855.68    0.004024  0.254694   B       44\n181         182  195619.20    0.004020  0.258714   B       45\n131         132  192795.16    0.003962  0.262675   B       46\n47           48  191247.97    0.003930  0.266605   B       47\n462         463  189399.91    0.003892  0.270497   B       48\n293         294  187955.76    0.003862  0.274359   B       49\n574         575  186893.81    0.003840  0.278199   B       50",
      "text/html": "<div>\n<style scoped>\n    .dataframe tbody tr th:only-of-type {\n        vertical-align: middle;\n    }\n\n    .dataframe tbody tr th {\n        vertical-align: top;\n    }\n\n    .dataframe thead th {\n        text-align: right;\n    }\n</style>\n<table border=\"1\" class=\"dataframe\">\n  <thead>\n    <tr style=\"text-align: right;\">\n      <th></th>\n      <th>customerID</th>\n      <th>revenue</th>\n      <th>percentage</th>\n      <th>cum_sum</th>\n      <th>abc</th>\n      <th>orderNo</th>\n    </tr>\n  </thead>\n  <tbody>\n    <tr>\n      <th>42</th>\n      <td>43</td>\n      <td>742299.47</td>\n      <td>0.015253</td>\n      <td>0.015253</td>\n      <td>A</td>\n      <td>1</td>\n    </tr>\n    <tr>\n      <th>29</th>\n      <td>30</td>\n      <td>605485.25</td>\n      <td>0.012441</td>\n      <td>0.027694</td>\n      <td>A</td>\n      <td>2</td>\n    </tr>\n    <tr>\n      <th>25</th>\n      <td>26</td>\n      <td>499334.02</td>\n      <td>0.010260</td>\n      <td>0.037955</td>\n      <td>A</td>\n      <td>3</td>\n    </tr>\n    <tr>\n      <th>27</th>\n      <td>28</td>\n      <td>487596.41</td>\n      <td>0.010019</td>\n      <td>0.047974</td>\n      <td>A</td>\n      <td>4</td>\n    </tr>\n    <tr>\n      <th>52</th>\n      <td>53</td>\n      <td>437209.49</td>\n      <td>0.008984</td>\n      <td>0.056957</td>\n      <td>A</td>\n      <td>5</td>\n    </tr>\n    <tr>\n      <th>116</th>\n      <td>117</td>\n      <td>368432.46</td>\n      <td>0.007571</td>\n      <td>0.064528</td>\n      <td>A</td>\n      <td>6</td>\n    </tr>\n    <tr>\n      <th>67</th>\n      <td>68</td>\n      <td>362136.74</td>\n      <td>0.007441</td>\n      <td>0.071969</td>\n      <td>A</td>\n      <td>7</td>\n    </tr>\n    <tr>\n      <th>49</th>\n      <td>50</td>\n      <td>353988.05</td>\n      <td>0.007274</td>\n      <td>0.079243</td>\n      <td>A</td>\n      <td>8</td>\n    </tr>\n    <tr>\n      <th>31</th>\n      <td>32</td>\n      <td>346642.77</td>\n      <td>0.007123</td>\n      <td>0.086366</td>\n      <td>A</td>\n      <td>9</td>\n    </tr>\n    <tr>\n      <th>215</th>\n      <td>216</td>\n      <td>338330.78</td>\n      <td>0.006952</td>\n      <td>0.093318</td>\n      <td>A</td>\n      <td>10</td>\n    </tr>\n    <tr>\n      <th>523</th>\n      <td>524</td>\n      <td>336152.03</td>\n      <td>0.006907</td>\n      <td>0.100225</td>\n      <td>A</td>\n      <td>11</td>\n    </tr>\n    <tr>\n      <th>138</th>\n      <td>139</td>\n      <td>335890.88</td>\n      <td>0.006902</td>\n      <td>0.107127</td>\n      <td>A</td>\n      <td>12</td>\n    </tr>\n    <tr>\n      <th>186</th>\n      <td>187</td>\n      <td>292982.33</td>\n      <td>0.006020</td>\n      <td>0.113147</td>\n      <td>A</td>\n      <td>13</td>\n    </tr>\n    <tr>\n      <th>30</th>\n      <td>31</td>\n      <td>264076.18</td>\n      <td>0.005426</td>\n      <td>0.118573</td>\n      <td>A</td>\n      <td>14</td>\n    </tr>\n    <tr>\n      <th>50</th>\n      <td>51</td>\n      <td>260976.50</td>\n      <td>0.005363</td>\n      <td>0.123936</td>\n      <td>A</td>\n      <td>15</td>\n    </tr>\n    <tr>\n      <th>83</th>\n      <td>84</td>\n      <td>249688.89</td>\n      <td>0.005131</td>\n      <td>0.129066</td>\n      <td>A</td>\n      <td>16</td>\n    </tr>\n    <tr>\n      <th>65</th>\n      <td>66</td>\n      <td>239568.27</td>\n      <td>0.004923</td>\n      <td>0.133989</td>\n      <td>A</td>\n      <td>17</td>\n    </tr>\n    <tr>\n      <th>48</th>\n      <td>49</td>\n      <td>238484.13</td>\n      <td>0.004900</td>\n      <td>0.138889</td>\n      <td>A</td>\n      <td>18</td>\n    </tr>\n    <tr>\n      <th>98</th>\n      <td>99</td>\n      <td>237096.11</td>\n      <td>0.004872</td>\n      <td>0.143761</td>\n      <td>A</td>\n      <td>19</td>\n    </tr>\n    <tr>\n      <th>355</th>\n      <td>356</td>\n      <td>231215.50</td>\n      <td>0.004751</td>\n      <td>0.148512</td>\n      <td>A</td>\n      <td>20</td>\n    </tr>\n    <tr>\n      <th>198</th>\n      <td>199</td>\n      <td>230932.02</td>\n      <td>0.004745</td>\n      <td>0.153257</td>\n      <td>A</td>\n      <td>21</td>\n    </tr>\n    <tr>\n      <th>189</th>\n      <td>190</td>\n      <td>228918.86</td>\n      <td>0.004704</td>\n      <td>0.157961</td>\n      <td>A</td>\n      <td>22</td>\n    </tr>\n    <tr>\n      <th>28</th>\n      <td>29</td>\n      <td>227891.08</td>\n      <td>0.004683</td>\n      <td>0.162644</td>\n      <td>A</td>\n      <td>23</td>\n    </tr>\n    <tr>\n      <th>389</th>\n      <td>390</td>\n      <td>227756.75</td>\n      <td>0.004680</td>\n      <td>0.167324</td>\n      <td>A</td>\n      <td>24</td>\n    </tr>\n    <tr>\n      <th>37</th>\n      <td>38</td>\n      <td>226627.17</td>\n      <td>0.004657</td>\n      <td>0.171981</td>\n      <td>A</td>\n      <td>25</td>\n    </tr>\n    <tr>\n      <th>266</th>\n      <td>267</td>\n      <td>224994.20</td>\n      <td>0.004623</td>\n      <td>0.176604</td>\n      <td>A</td>\n      <td>26</td>\n    </tr>\n    <tr>\n      <th>87</th>\n      <td>88</td>\n      <td>224652.96</td>\n      <td>0.004616</td>\n      <td>0.181220</td>\n      <td>A</td>\n      <td>27</td>\n    </tr>\n    <tr>\n      <th>147</th>\n      <td>148</td>\n      <td>223957.09</td>\n      <td>0.004602</td>\n      <td>0.185822</td>\n      <td>A</td>\n      <td>28</td>\n    </tr>\n    <tr>\n      <th>190</th>\n      <td>191</td>\n      <td>223130.92</td>\n      <td>0.004585</td>\n      <td>0.190407</td>\n      <td>A</td>\n      <td>29</td>\n    </tr>\n    <tr>\n      <th>259</th>\n      <td>260</td>\n      <td>221091.18</td>\n      <td>0.004543</td>\n      <td>0.194950</td>\n      <td>A</td>\n      <td>30</td>\n    </tr>\n    <tr>\n      <th>46</th>\n      <td>47</td>\n      <td>220694.75</td>\n      <td>0.004535</td>\n      <td>0.199485</td>\n      <td>A</td>\n      <td>31</td>\n    </tr>\n    <tr>\n      <th>92</th>\n      <td>93</td>\n      <td>219147.83</td>\n      <td>0.004503</td>\n      <td>0.203988</td>\n      <td>B</td>\n      <td>32</td>\n    </tr>\n    <tr>\n      <th>161</th>\n      <td>162</td>\n      <td>214734.41</td>\n      <td>0.004412</td>\n      <td>0.208400</td>\n      <td>B</td>\n      <td>33</td>\n    </tr>\n    <tr>\n      <th>139</th>\n      <td>140</td>\n      <td>213998.58</td>\n      <td>0.004397</td>\n      <td>0.212797</td>\n      <td>B</td>\n      <td>34</td>\n    </tr>\n    <tr>\n      <th>94</th>\n      <td>95</td>\n      <td>211649.99</td>\n      <td>0.004349</td>\n      <td>0.217146</td>\n      <td>B</td>\n      <td>35</td>\n    </tr>\n    <tr>\n      <th>3</th>\n      <td>4</td>\n      <td>209188.97</td>\n      <td>0.004298</td>\n      <td>0.221445</td>\n      <td>B</td>\n      <td>36</td>\n    </tr>\n    <tr>\n      <th>195</th>\n      <td>196</td>\n      <td>208918.99</td>\n      <td>0.004293</td>\n      <td>0.225737</td>\n      <td>B</td>\n      <td>37</td>\n    </tr>\n    <tr>\n      <th>91</th>\n      <td>92</td>\n      <td>205782.60</td>\n      <td>0.004228</td>\n      <td>0.229966</td>\n      <td>B</td>\n      <td>38</td>\n    </tr>\n    <tr>\n      <th>124</th>\n      <td>125</td>\n      <td>204913.26</td>\n      <td>0.004211</td>\n      <td>0.234176</td>\n      <td>B</td>\n      <td>39</td>\n    </tr>\n    <tr>\n      <th>193</th>\n      <td>194</td>\n      <td>204179.31</td>\n      <td>0.004195</td>\n      <td>0.238372</td>\n      <td>B</td>\n      <td>40</td>\n    </tr>\n    <tr>\n      <th>167</th>\n      <td>168</td>\n      <td>203436.21</td>\n      <td>0.004180</td>\n      <td>0.242552</td>\n      <td>B</td>\n      <td>41</td>\n    </tr>\n    <tr>\n      <th>153</th>\n      <td>154</td>\n      <td>197907.05</td>\n      <td>0.004067</td>\n      <td>0.246619</td>\n      <td>B</td>\n      <td>42</td>\n    </tr>\n    <tr>\n      <th>234</th>\n      <td>235</td>\n      <td>197149.73</td>\n      <td>0.004051</td>\n      <td>0.250670</td>\n      <td>B</td>\n      <td>43</td>\n    </tr>\n    <tr>\n      <th>134</th>\n      <td>135</td>\n      <td>195855.68</td>\n      <td>0.004024</td>\n      <td>0.254694</td>\n      <td>B</td>\n      <td>44</td>\n    </tr>\n    <tr>\n      <th>181</th>\n      <td>182</td>\n      <td>195619.20</td>\n      <td>0.004020</td>\n      <td>0.258714</td>\n      <td>B</td>\n      <td>45</td>\n    </tr>\n    <tr>\n      <th>131</th>\n      <td>132</td>\n      <td>192795.16</td>\n      <td>0.003962</td>\n      <td>0.262675</td>\n      <td>B</td>\n      <td>46</td>\n    </tr>\n    <tr>\n      <th>47</th>\n      <td>48</td>\n      <td>191247.97</td>\n      <td>0.003930</td>\n      <td>0.266605</td>\n      <td>B</td>\n      <td>47</td>\n    </tr>\n    <tr>\n      <th>462</th>\n      <td>463</td>\n      <td>189399.91</td>\n      <td>0.003892</td>\n      <td>0.270497</td>\n      <td>B</td>\n      <td>48</td>\n    </tr>\n    <tr>\n      <th>293</th>\n      <td>294</td>\n      <td>187955.76</td>\n      <td>0.003862</td>\n      <td>0.274359</td>\n      <td>B</td>\n      <td>49</td>\n    </tr>\n    <tr>\n      <th>574</th>\n      <td>575</td>\n      <td>186893.81</td>\n      <td>0.003840</td>\n      <td>0.278199</td>\n      <td>B</td>\n      <td>50</td>\n    </tr>\n  </tbody>\n</table>\n</div>"
     },
     "execution_count": 444,
     "metadata": {},
     "output_type": "execute_result"
    }
   ],
   "source": [
    "customers.to_csv('customers.csv', index=False)"
   ],
   "metadata": {
    "collapsed": false,
    "pycharm": {
     "name": "#%%\n"
    }
   }
  }
 ],
 "metadata": {
  "kernelspec": {
   "display_name": "Python 3",
   "language": "python",
   "name": "python3"
  },
  "language_info": {
   "codemirror_mode": {
    "name": "ipython",
    "version": 2
   },
   "file_extension": ".py",
   "mimetype": "text/x-python",
   "name": "python",
   "nbconvert_exporter": "python",
   "pygments_lexer": "ipython2",
   "version": "2.7.6"
  }
 },
 "nbformat": 4,
 "nbformat_minor": 0
}